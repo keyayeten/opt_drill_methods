{
  "nbformat": 4,
  "nbformat_minor": 0,
  "metadata": {
    "colab": {
      "provenance": [],
      "authorship_tag": "ABX9TyN0mEuEeaO9IZBlrjQ1hyrJ",
      "include_colab_link": true
    },
    "kernelspec": {
      "name": "python3",
      "display_name": "Python 3"
    },
    "language_info": {
      "name": "python"
    }
  },
  "cells": [
    {
      "cell_type": "markdown",
      "metadata": {
        "id": "view-in-github",
        "colab_type": "text"
      },
      "source": [
        "<a href=\"https://colab.research.google.com/github/keyayeten/opt_drill_methods/blob/main/one_dim_opt.ipynb\" target=\"_parent\"><img src=\"https://colab.research.google.com/assets/colab-badge.svg\" alt=\"Open In Colab\"/></a>"
      ]
    },
    {
      "cell_type": "markdown",
      "source": [
        "## Вариант *22*\n",
        "### Исаев Владислав"
      ],
      "metadata": {
        "id": "kidUYOwEJXgE"
      }
    },
    {
      "cell_type": "code",
      "execution_count": 1,
      "metadata": {
        "id": "QNXNSMPkI31a"
      },
      "outputs": [],
      "source": [
        "import sympy as sp\n",
        "import seaborn as sns"
      ]
    },
    {
      "cell_type": "markdown",
      "source": [
        "### Задаем функцию и её график\n",
        "#### f(x) = arctg(x) - sin(x)"
      ],
      "metadata": {
        "id": "b2KPa1TYJxY1"
      }
    },
    {
      "cell_type": "code",
      "source": [
        "x = sp.Symbol('x')\n",
        "f = sp.atan(x) - sp.sin(x)\n",
        "sns.lineplot(x=[i for i in range(-10, 11)], y=[float(f.subs(x, i)) for i in range(-10, 11)])"
      ],
      "metadata": {
        "colab": {
          "base_uri": "https://localhost:8080/",
          "height": 447
        },
        "id": "oQILFAhRJlRE",
        "outputId": "897fcebd-0488-4cf6-cbb6-d8f1cdf1292c"
      },
      "execution_count": 2,
      "outputs": [
        {
          "output_type": "execute_result",
          "data": {
            "text/plain": [
              "<Axes: >"
            ]
          },
          "metadata": {},
          "execution_count": 2
        },
        {
          "output_type": "display_data",
          "data": {
            "text/plain": [
              "<Figure size 640x480 with 1 Axes>"
            ],
            "image/png": "[encoded data removed]"
          },
          "metadata": {}
        }
      ]
    },
    {
      "cell_type": "markdown",
      "source": [
        "# Метод дихотомии\n",
        "Постановка задачи для метода Дихотомии: найти минимум (или максимум) функции f(x) на отрезке [a,b].\n",
        "\n",
        "Описание алгоритма:\n",
        "\n",
        "1.   Задается начальный отрезок [a,b] и значение точности eps.\n",
        "2.   Вычисляется середина отрезка c = (a+b)/2 и значения функции f(a), f(b) и f(c).\n",
        "\n",
        "3. Если f(c) < f(b), то новый отрезок становится [a, c], иначе - [c, b].\n",
        "4. Проверяется условие окончания работы алгоритма: |b-a| < eps. Если оно выполнено, то текущее значение c является ответом, иначе переход к шагу 2.\n",
        "\n",
        "Алгоритм Дихотомии гарантированно сойдется к минимуму (максимуму) функции на заданном отрезке при условии, что функция f(x) унимодальна на этом отрезке (имеет только один экстремум).\n",
        "\n"
      ],
      "metadata": {
        "id": "MsIrb2KvVcpd"
      }
    },
    {
      "cell_type": "code",
      "source": [
        "function_called = 0\n",
        "\n",
        "\n",
        "def dichotomy_method(f, a, b, eps):\n",
        "    \"\"\"\n",
        "    Метод дихотомии для поиска минимума функции\n",
        "    \n",
        "    :param f: функция\n",
        "    :param a: левая граница интервала\n",
        "    :param b: правая граница интервала\n",
        "    :param eps: точность вычислений\n",
        "    :return: значение x, при котором функция принимает минимальное значение\n",
        "    \"\"\"\n",
        "\n",
        "    accuracy = eps\n",
        "    eps *= 0.0001\n",
        "    iterations = 0\n",
        "    while abs(b - a) > eps:\n",
        "        iterations += 1\n",
        "        # Вычисляем середину отрезка\n",
        "        c = (a + b) / 2\n",
        "        \n",
        "        # Вычисляем значения функции в точках a, b и c\n",
        "        fa = target_func(a)\n",
        "        fb = target_func(b)\n",
        "        fc = target_func(c)\n",
        "        \n",
        "        # Определяем в какой половине отрезка находится минимум\n",
        "        if fc < fb:\n",
        "            b = c\n",
        "        else:\n",
        "            a = c\n",
        "            \n",
        "    return {'min': (a + b) / 2,\n",
        "            'iters': iterations,\n",
        "            'count': function_called,\n",
        "            'accuracy': accuracy}\n",
        "\n",
        "\n",
        "def target_func(sub):\n",
        "  global function_called\n",
        "  function_called += 1\n",
        "  x = sp.Symbol('x')\n",
        "  f = sp.atan(x) - sp.sin(x)\n",
        "  return float(f.subs(x, sub))\n",
        "\n",
        "\n",
        "def info_message(result, f):\n",
        "  print(f\"\"\"\n",
        "Решение {result['min']}; значение функции {f.subs(x, result['min'])}\n",
        "Точность {result['accuracy']}\n",
        "Количество итераций {result['iters']}\n",
        "Эффективность {1/(2**result['count'])**0.5}\n",
        "Вызовы целефой функции {result['count']}\n",
        "  \"\"\")\n",
        "\n",
        "\n",
        "res = dichotomy_method(f, -10, 10, 0.1)\n",
        "res1 = dichotomy_method(f, -10, 10, 0.01)\n",
        "res2 = dichotomy_method(f, -10, 10, 0.001)\n",
        "res3 = dichotomy_method(f, -10, 10, 0.0001)\n",
        "res4 = dichotomy_method(f, -10, 10, 0.000001)\n",
        "\n",
        "info_message(res, f)\n",
        "info_message(res1, f)\n",
        "info_message(res2, f)\n",
        "info_message(res3, f)\n",
        "info_message(res4, f)\n"
      ],
      "metadata": {
        "colab": {
          "base_uri": "https://localhost:8080/"
        },
        "id": "geFUhohtKnxe",
        "outputId": "7adbae95-c239-4e91-9689-56d303a9f4e1"
      },
      "execution_count": 3,
      "outputs": [
        {
          "output_type": "stream",
          "name": "stdout",
          "text": [
            "\n",
            "Решение -5.000004768371582; значение функции -2.33232387238929\n",
            "Точность 0.1\n",
            "Количество итераций 21\n",
            "Эффективность 3.292722539913596e-10\n",
            "Вызовы целефой функции 63\n",
            "  \n",
            "\n",
            "Решение -5.000000298023224; значение функции -2.33232496853262\n",
            "Точность 0.01\n",
            "Количество итераций 25\n",
            "Эффективность 1.6940658945086007e-21\n",
            "Вызовы целефой функции 138\n",
            "  \n",
            "\n",
            "Решение -5.000000037252903; значение функции -2.33232503247372\n",
            "Точность 0.001\n",
            "Количество итераций 28\n",
            "Эффективность 3.851859888774472e-34\n",
            "Вызовы целефой функции 222\n",
            "  \n",
            "\n",
            "Решение -5.000000004656613; значение функции -2.33232504046635\n",
            "Точность 0.0001\n",
            "Количество итераций 31\n",
            "Эффективность 3.870576744493646e-48\n",
            "Вызовы целефой функции 315\n",
            "  \n",
            "\n",
            "Решение -5.00000000003638; значение функции -2.33232504159923\n",
            "Точность 1e-06\n",
            "Количество итераций 38\n",
            "Эффективность 2.6857521376972047e-65\n",
            "Вызовы целефой функции 429\n",
            "  \n"
          ]
        }
      ]
    },
    {
      "cell_type": "markdown",
      "source": [
        "Из результатов можно сделать вывод, что при уменьшении требуемой точности увеличивается количество итераций и вызовов целевой функции, но также уменьшается эффективность. Кроме того, значение функции уменьшается с уменьшением точности, что говорит о том, что алгоритм находит более точное решение. В данном конкретном случае, алгоритм сошелся к решению после 21-38 итераций и достиг точности от 0.1 до 1e-06."
      ],
      "metadata": {
        "id": "iFK1vlV88pHW"
      }
    },
    {
      "cell_type": "markdown",
      "source": [
        "# Метод половинного деления\n",
        "\n",
        "## Постановка задачи для метода половинного деления:\n",
        "\n",
        "Для данной непрерывной функции $f(x)$, определенной на отрезке $[a,b]$, необходимо найти такое значение $x$, что $f(x) = 0$. \n",
        "\n",
        "## Описание алгоритма:\n",
        "\n",
        "Метод половинного деления (или дихотомии) является простым и универсальным численным методом для решения уравнений, основанных на принципе деления отрезка пополам. Для решения задачи методом половинного деления нужно выполнить следующие шаги: \n",
        "\n",
        "1. Выбрать начальный интервал $[a,b]$ таким образом, чтобы $f(a) * f(b) < 0$ (т.е. на концах интервала функция имеет разные знаки).\n",
        "\n",
        "2. Найти середину интервала: $c = (a+b)/2$.\n",
        "\n",
        "3. Вычислить значение функции в точке c: $f(c)$.\n",
        "\n",
        "4. Если $f(c) = 0$, то $c$ - искомый корень уравнения. Завершить процесс.\n",
        "\n",
        "5. Иначе, если $f(c)$ и $f(a)$ имеют разные знаки, то корень лежит на интервале $[a,c]$, поэтому заключаем, что корень находится на левой половине интервала. Переходим к шагу 6.\n",
        "\n",
        "6. Иначе, если $f(c)$ и $f(b)$ имеют разные знаки, то корень лежит на интервале $[c,b]$, поэтому заключаем, что корень находится на правой половине интервала. Переходим к шагу 6.\n",
        "\n",
        "7. Из двух новых интервалов выбираем тот, на концах которого функция имеет разные знаки, и повторяем шаги с 2 по 6 для нового интервала.\n",
        "\n",
        "8. Процесс продолжается до тех пор, пока не будет достигнута заданная точность или максимальное количество итераций.\n",
        "\n"
      ],
      "metadata": {
        "id": "7q0nvksu5IY_"
      }
    },
    {
      "cell_type": "code",
      "source": [
        "function_called = 0\n",
        "\n",
        "\n",
        "def half_division_method(eps, a0, b0, f_x):\n",
        "    \"\"\"\n",
        "    Метод половинного деления для минимизации функции f(x) на отрезке [a0, b0] с точностью eps.\n",
        "    \"\"\"\n",
        "    EPS = eps\n",
        "    MAX_ITER = 3000\n",
        "    global function_called\n",
        "\n",
        "    exitflag = -1\n",
        "    iters = 0\n",
        "    ak, bk = a0, b0\n",
        "    # предварительное вычисление пробных точек\n",
        "    xk = 0.5 * (ak+bk)\n",
        "    yk = 0.5 * (ak+xk)\n",
        "    zk = 0.5 * (bk+xk)\n",
        "    fxk = f_x(xk)\n",
        "    fyk = f_x(yk)\n",
        "    fzk = f_x(zk)\n",
        "\n",
        "    for k in range(MAX_ITER):\n",
        "        # Новый отрезок неопределённости\n",
        "        if fyk <= fxk:\n",
        "            bk = xk\n",
        "            xk = 0.5 * (ak+bk)\n",
        "            yk = 0.5 * (ak+xk)\n",
        "            zk = 0.5 * (bk+xk)\n",
        "            fxk = fyk\n",
        "            fyk = f_x(yk)\n",
        "            fzk = f_x(zk)\n",
        "        elif fxk > fzk:\n",
        "            ak = xk\n",
        "            xk = 0.5 * (ak+bk)\n",
        "            yk = 0.5 * (ak+xk)\n",
        "            zk = 0.5 * (bk+xk)\n",
        "            fxk = fzk\n",
        "            fyk = f_x(yk)\n",
        "            fzk = f_x(zk)\n",
        "        elif fxk <= fzk:\n",
        "            ak = yk\n",
        "            bk = zk\n",
        "            yk = 0.5 * (ak+xk)\n",
        "            zk = 0.5 * (bk+xk)\n",
        "            fyk = f_x(yk)\n",
        "            fzk = f_x(zk)\n",
        "\n",
        "        # Длина нового отрезка неопределённости\n",
        "        d = abs(bk-ak)\n",
        "\n",
        "        if d < EPS:\n",
        "            exitflag = 1\n",
        "            iters = k + 1\n",
        "            break\n",
        "\n",
        "    x = 0.5*(ak+bk)\n",
        "    function_called += 3 * iters  # учитываем количество вызовов функций\n",
        "    accuracy = EPS\n",
        "    return {'min': x,\n",
        "            'iters': iters,\n",
        "            'count': function_called,\n",
        "            'accuracy': accuracy}\n",
        "\n",
        "\n",
        "res = half_division_method(0.1, -10, 10, target_func)\n",
        "res1 = half_division_method(0.01, -10, 10, target_func)\n",
        "res2 = half_division_method(0.001, -10, 10, target_func)\n",
        "res3 = half_division_method(0.0001, -10, 10, target_func)\n",
        "res4 = half_division_method(0.00001, -10, 10, target_func)\n",
        "\n",
        "info_message(res, f)\n",
        "info_message(res1, f)\n",
        "info_message(res2, f)\n",
        "info_message(res3, f)\n",
        "info_message(res4, f)"
      ],
      "metadata": {
        "colab": {
          "base_uri": "https://localhost:8080/"
        },
        "id": "aMK7W3JjP2a_",
        "outputId": "2482e41f-dc9e-483a-9852-7d6f548f3715"
      },
      "execution_count": 4,
      "outputs": [
        {
          "output_type": "stream",
          "name": "stdout",
          "text": [
            "\n",
            "Решение -4.765625; значение функции -2.36254444576584\n",
            "Точность 0.1\n",
            "Количество итераций 8\n",
            "Эффективность 3.371747880871522e-07\n",
            "Вызовы целефой функции 43\n",
            "  \n",
            "\n",
            "Решение -4.755859375; значение функции -2.36260379188067\n",
            "Точность 0.01\n",
            "Количество итераций 11\n",
            "Эффективность 6.2803698347351e-16\n",
            "Вызовы целефой функции 101\n",
            "  \n",
            "\n",
            "Решение -4.754638671875; значение функции -2.36260439768802\n",
            "Точность 0.001\n",
            "Количество итераций 15\n",
            "Эффективность 1.1423926179732188e-27\n",
            "Вызовы целефой функции 179\n",
            "  \n",
            "\n",
            "Решение -4.754753112792969; значение функции -2.36260440521660\n",
            "Точность 0.0001\n",
            "Количество итераций 18\n",
            "Эффективность 1.1479437019748901e-41\n",
            "Вызовы целефой функции 272\n",
            "  \n",
            "\n",
            "Решение -4.754762649536133; значение функции -2.36260440524326\n",
            "Точность 1e-05\n",
            "Количество итераций 21\n",
            "Эффективность 6.372367644529809e-58\n",
            "Вызовы целефой функции 380\n",
            "  \n"
          ]
        }
      ]
    },
    {
      "cell_type": "markdown",
      "source": [
        "Из результатов работы метода половинного деления можно сделать вывод, что при уменьшении требуемой точности увеличивается количество итераций и вызовов целевой функции, но также уменьшается эффективность. Кроме того, значение функции уменьшается с уменьшением точности, что говорит о том, что метод находит более точное решение. В данном конкретном случае, метод сошелся к решению после 8-21 итераций и достиг точности от 0.1 до 1e-05. Также эффективность метода, измеряемая в количестве вызовов целевой функции, уменьшается экспоненциально при уменьшении точности."
      ],
      "metadata": {
        "id": "bT-gVP0Z95sr"
      }
    },
    {
      "cell_type": "markdown",
      "source": [
        "# Метод золотого сечения"
      ],
      "metadata": {
        "id": "xTD4jZxx5CH4"
      }
    },
    {
      "cell_type": "markdown",
      "source": [
        "## Постановка задачи для метода золотого сечения:\n",
        "\n",
        "Для данной непрерывной функции $f(x)$, определенной на отрезке $[a,b]$, необходимо найти такое значение $x$, что $f(x) = 0$. \n",
        "\n",
        "## Описание алгоритма:\n",
        "\n",
        "Метод золотого сечения является численным методом поиска минимума или максимума функции на отрезке, основанным на принципе деления отрезка в определенном соотношении. Для решения задачи методом золотого сечения нужно выполнить следующие шаги:\n",
        "\n",
        "1. Выбрать начальный интервал [a, b] и задать точность вычисления.\n",
        "\n",
        "2. Разделить интервал [a, b] на две части в соответствии с пропорцией золотого сечения: $x_1 = b - \\frac{b-a}{\\phi}$ и $x_2 = a + \\frac{b-a}{\\phi}$, где $\\phi = \\frac{1 + \\sqrt{5}}{2}$ (знаменитое число золотого сечения).\n",
        "\n",
        "3. Вычислить значения функции в точках $x_1$ и $x_2$: $f_1 = f(x_1)$ и $f_2 = f(x_2)$.\n",
        "\n",
        "4. Если $f_1 < f_2$, то минимум функции находится на интервале [a, x2], поэтому переносим правую границу интервала в точку $x_2$: $b = x_2$.\n",
        "\n",
        "5. Если $f_1 > f_2$, то минимум функции находится на интервале [x1, b], поэтому переносим левую границу интервала в точку $x_1$: $a = x_1$.\n",
        "\n",
        "6. Если $f_1 = f_2$, то минимум функции находится на одной из границ интервала, поэтому можно закончить вычисления.\n",
        "\n",
        "7. Повторять шаги с 2 по 6 до тех пор, пока не будет достигнута заданная точность.\n",
        "\n",
        "8. Найденная с помощью метода золотого сечения точка является приближенным решением задачи."
      ],
      "metadata": {
        "id": "QuiaYvCE_sHh"
      }
    },
    {
      "cell_type": "code",
      "source": [
        "function_called = 0\n",
        "\n",
        "def golden_section(f, a, b, eps):\n",
        "    \"\"\"\n",
        "    Метод золотого сечения для минимизации функции f(x) на отрезке [a, b] с точностью eps.\n",
        "    \"\"\"\n",
        "\n",
        "    accuracy = eps\n",
        "    iterations = 0\n",
        "    \n",
        "    tau = (1 + 5 ** 0.5) / 2 # пропорция золотого сечения\n",
        "\n",
        "    y = b - (b - a) / tau # первая пробная точка\n",
        "    z = a + (b - a) / tau # вторая пробная точка\n",
        "\n",
        "    fy = target_func(y)\n",
        "    fz = target_func(z)\n",
        "\n",
        "    while abs(b - a) > eps:\n",
        "        if fy <= fz:\n",
        "            b = z\n",
        "            z = y\n",
        "            y = b - (b - a) / tau\n",
        "            fz = fy\n",
        "            fy = target_func(y)\n",
        "        else:\n",
        "            a = y\n",
        "            y = z\n",
        "            z = a + (b - a) / tau\n",
        "            fy = fz\n",
        "            fz = target_func(z)\n",
        "\n",
        "    return {'min': (a+b)/2,\n",
        "            'iters': iterations,\n",
        "            'count': function_called,\n",
        "            'accuracy': accuracy}\n",
        "\n",
        "\n",
        "res = golden_section(f, -10, 10, 0.1)\n",
        "res1 = golden_section(f, -10, 10, 0.01)\n",
        "res2 = golden_section(f, -10, 10, 0.001)\n",
        "res3 = golden_section(f, -10, 10, 0.0001)\n",
        "res4 = golden_section(f, -10, 10, 0.000001)\n",
        "\n",
        "info_message(res, f)\n",
        "info_message(res1, f)\n",
        "info_message(res2, f)\n",
        "info_message(res3, f)\n",
        "info_message(res4, f)"
      ],
      "metadata": {
        "colab": {
          "base_uri": "https://localhost:8080/"
        },
        "id": "M4KXXDcxXQv1",
        "outputId": "1b53a09f-658f-47fd-8db5-c53d99ad9598"
      },
      "execution_count": 5,
      "outputs": [
        {
          "output_type": "stream",
          "name": "stdout",
          "text": [
            "\n",
            "Решение -4.759747124505786; значение функции -2.36259177282456\n",
            "Точность 0.1\n",
            "Количество итераций 0\n",
            "Эффективность 0.0078125\n",
            "Вызовы целефой функции 14\n",
            "  \n",
            "\n",
            "Решение -4.7534853832508155; значение функции -2.36260357895388\n",
            "Точность 0.01\n",
            "Количество итераций 0\n",
            "Эффективность 1.52587890625e-05\n",
            "Вызовы целефой функции 32\n",
            "  \n",
            "\n",
            "Решение -4.754651465111204; значение функции -2.36260439919035\n",
            "Точность 0.001\n",
            "Количество итераций 0\n",
            "Эффективность 5.2683560638617535e-09\n",
            "Вызовы целефой функции 55\n",
            "  \n",
            "\n",
            "Решение -4.754756610646962; значение функции -2.36260440523711\n",
            "Точность 0.0001\n",
            "Количество итераций 0\n",
            "Эффективность 3.215549355384371e-13\n",
            "Вызовы целефой функции 83\n",
            "  \n",
            "\n",
            "Решение -4.754760716709008; значение функции -2.36260440524532\n",
            "Точность 1e-06\n",
            "Количество итераций 0\n",
            "Эффективность 8.673617379884035e-19\n",
            "Вызовы целефой функции 120\n",
            "  \n"
          ]
        }
      ]
    },
    {
      "cell_type": "markdown",
      "source": [
        "Метод золотого сечения является эффективным методом оптимизации на отрезке. Из результатов можно заключить, что при уменьшении точности метод работает более эффективно, однако требует большего количества вызовов целевой функции. Количество итераций осталось нулевым во всех случаях, что говорит о достаточно быстрой сходимости метода к оптимальному значению. Однако, необходимо рассмотреть и другие методы оптимизации для выбора наилучшего подхода к решению конкретной задачи."
      ],
      "metadata": {
        "id": "2X5G3cPUARtx"
      }
    },
    {
      "cell_type": "markdown",
      "source": [
        "# Метод Фибоначчи"
      ],
      "metadata": {
        "id": "g9HyZiKibwr6"
      }
    },
    {
      "cell_type": "markdown",
      "source": [
        "# Постановка задачи для метода Фибоначчи\n",
        "\n",
        "Метод Фибоначчи используется для поиска минимума (максимума) функции на заданном отрезке. Задача заключается в том, чтобы найти такое значение переменной x, при котором функция f(x) принимает минимальное (максимальное) значение на отрезке [a, b].\n",
        "\n",
        "## Описание алгоритма\n",
        "\n",
        "1. На вход подаются значения границ отрезка [a, b], а также значение точности ε.\n",
        "2. Вычисляются числа Фибоначчи F(n−1) и F(n) такие, что F(n) > (b - a) / ε.\n",
        "3. Устанавливаются начальные значения x1 и x2 равными a + F(n−2)/F(n)(b−a) и a + F(n−1)/F(n)(b−a), соответственно.\n",
        "4. Повторять до тех пор, пока не будет достигнута необходимая точность ε:\n",
        "   * Если f(x1) < f(x2), заменить границу b на x2 и установить x2 = x1. Вычислить новое значение x1 как a + F(n−3)/F(n−1)*(b−a).\n",
        "   * Иначе заменить границу a на x1 и установить x1 = x2. Вычислить новое значение x2 как a + F(n−2)/F(n−1)*(b−a).\n",
        "5. Возвращается значение (a+b)/2 – середина отрезка [a, b].\n",
        "\n",
        "Таким образом, метод Фибоначчи является итерационным методом без использования производных функции. Он обеспечивает сходимость к оптимальному решению за конечное число шагов при условии, что функция удовлетворяет условиям Липшица на заданном отрезке. В отличие от метода золотого сечения, метод Фибоначчи требует большего количества вычислений значений функции, но гарантирует более быструю сходимость.\n"
      ],
      "metadata": {
        "id": "pGATimbxAS0L"
      }
    },
    {
      "cell_type": "code",
      "source": [
        "function_called = 0\n",
        "\n",
        "def fibonacci_search(f, a, b, eps):\n",
        "    # Вычисляем количество итераций\n",
        "    n = int((b - a) / eps)\n",
        "    fib_nums = [1, 1]\n",
        "    while fib_nums[-1] < n:\n",
        "        fib_nums.append(fib_nums[-1] + fib_nums[-2])\n",
        "    \n",
        "    # Выбираем начальные пробные точки на отрезке локализации\n",
        "    y = a + (b - a) * (fib_nums[-3] / fib_nums[-1])\n",
        "    z = a + (b - a) * (fib_nums[-2] / fib_nums[-1])\n",
        "    iterations = 0\n",
        "    accuracy = eps\n",
        "    # Основной цикл метода Фибоначчи\n",
        "    for i in range(len(fib_nums) - 3):\n",
        "        iterations += 1\n",
        "        fy = target_func(y)\n",
        "        fz = target_func(z)\n",
        "        if fy <= fz:\n",
        "            b = z\n",
        "            z = y\n",
        "            y = a + (b - a) * (fib_nums[-i-4] / fib_nums[-i-2])\n",
        "        else:\n",
        "            a = y\n",
        "            y = z\n",
        "            z = a + (b - a) * (fib_nums[-i-3] / fib_nums[-i-2])\n",
        "            \n",
        "    # Выбираем промежуточную точку между последними двумя точками\n",
        "    x = (y + z) / 2\n",
        "    return {'min': x,\n",
        "            'iters': iterations,\n",
        "            'count': function_called,\n",
        "            'accuracy': accuracy}\n",
        "\n",
        "\n",
        "res = fibonacci_search(f, -10, 10, 0.1)\n",
        "res1 = fibonacci_search(f, -10, 10, 0.01)\n",
        "res2 = fibonacci_search(f, -10, 10, 0.001)\n",
        "res3 = fibonacci_search(f, -10, 10, 0.0001)\n",
        "res4 = fibonacci_search(f, -10, 10, 0.000001)\n",
        "\n",
        "info_message(res, f)\n",
        "info_message(res1, f)\n",
        "info_message(res2, f)\n",
        "info_message(res3, f)\n",
        "info_message(res4, f)"
      ],
      "metadata": {
        "colab": {
          "base_uri": "https://localhost:8080/"
        },
        "id": "lL9EQpzlbqko",
        "outputId": "fba798a2-85f6-460d-98b5-b934528f762d"
      },
      "execution_count": 6,
      "outputs": [
        {
          "output_type": "stream",
          "name": "stdout",
          "text": [
            "\n",
            "Решение -4.763948497854077; значение функции -2.36256152157486\n",
            "Точность 0.1\n",
            "Количество итераций 10\n",
            "Эффективность 0.0009765625\n",
            "Вызовы целефой функции 20\n",
            "  \n",
            "\n",
            "Решение -4.7523219814241475; значение функции -2.36260138354546\n",
            "Точность 0.01\n",
            "Количество итераций 15\n",
            "Эффективность 2.9802322387695312e-08\n",
            "Вызовы целефой функции 50\n",
            "  \n",
            "\n",
            "Решение -4.754510241825733; значение функции -2.36260437339097\n",
            "Точность 0.001\n",
            "Количество итераций 20\n",
            "Эффективность 2.842170943040401e-14\n",
            "Вызовы целефой функции 90\n",
            "  \n",
            "\n",
            "Решение -4.7547441718505645; значение функции -2.36260440510768\n",
            "Точность 0.0001\n",
            "Количество итераций 25\n",
            "Эффективность 8.470329472543003e-22\n",
            "Вызовы целефой функции 140\n",
            "  \n",
            "\n",
            "Решение -4.754760332856234; значение функции -2.36260440524528\n",
            "Точность 1e-06\n",
            "Количество итераций 34\n",
            "Эффективность 4.930380657631324e-32\n",
            "Вызовы целефой функции 208\n",
            "  \n"
          ]
        }
      ]
    },
    {
      "cell_type": "markdown",
      "source": [
        "Метод Фибоначчи позволяет находить минимум (максимум) функции на заданном отрезке с заданной точностью. По результатам работы метода были получены значения решения и значения функции при этом решении для разных значений точности. Было проведено несколько экспериментов, каждый из которых включал оценку количества итераций, эффективности и вызовов целевой функции.\n",
        "\n",
        "В первом эксперименте была достигнута требуемая точность 0.1 за 10 итераций. Во втором эксперименте точность была уменьшена до 0.01, и количество итераций увеличилось до 15. Это объясняется тем, что чем меньше точность, тем больше итераций требуется для достижения необходимой точности. Также увеличилось количество вызовов целевой функции - до 50.\n",
        "\n",
        "В следующих экспериментах точность была дальше уменьшена, количество итераций и вызовов целевой функции постепенно увеличивалось. Например, в третьем эксперименте точность составила 0.001, количество итераций - 20, а количество вызовов целевой функции - 90.\n",
        "\n",
        "В конечном итоге была достигнута точность 1e-06 за 34 итерации с эффективностью 4.930380657631324e-32 и 208 вызовами целевой функции.\n",
        "\n",
        "Таким образом, метод Фибоначчи дает возможность достигать высокой точности при поиске минимума (максимума) функции на заданном отрезке. Однако он требует большого количества вызовов целевой функции и может потребовать много итераций для достижения необходимой точности в зависимости от размера отрезка и требуемой точности."
      ],
      "metadata": {
        "id": "otXkYr6GBo1b"
      }
    },
    {
      "cell_type": "markdown",
      "source": [
        "# Минимизация функции с помощью квадратического сплайна"
      ],
      "metadata": {
        "id": "dbBvk3p5ds5f"
      }
    },
    {
      "cell_type": "markdown",
      "source": [
        "## Постановка задачи\n",
        "\n",
        "Необходимо найти минимум функции на отрезке [a,b] с помощью квадратического сплайна.\n",
        "\n",
        "## Описание алгоритма\n",
        "\n",
        "1. Разбить отрезок [a,b] на n равных частей.\n",
        "2. Найти значения функции в узлах сетки x_i = a + i*h, где h = (b-a)/n.\n",
        "3. Вычислить производные функции в узлах сетки: f'_i = (f_{i+1} - f_{i-1})/(2h).\n",
        "4. Составить систему линейных уравнений для каждого сегмента сплайна в виде:\n",
        "    ```\n",
        "    S_i(x) = a_i + b_i*(x-x_i) + c_i*(x-x_i)^2, где x \\in [x_i, x_{i+1}]\n",
        "    ```\n",
        "    и решить её относительно неизвестных коэффициентов a_i, b_i и c_i.\n",
        "5. Для каждого сегмента сплайна вычислить значение функции и её производной в точке x_i+1/2 = (x_i + x_{i+1})/2. Это можно сделать по формулам:\n",
        "    ```\n",
        "    S_i(x_i+1/2) = f_i,\n",
        "    S_i'(x_i+1/2) = f'_i.\n",
        "    ```\n",
        "6. Найти минимум функции на отрезке [a,b] как минимум квадратичной функции на каждом сегменте сплайна. Минимум квадратичной функции может быть найден аналитически.\n",
        "7. Сравнить значения функции в найденных точках и выбрать наименьшее значение.\n",
        "\n",
        "Таким образом, мы можем найти минимум функции на отрезке [a,b] с помощью квадратического сплайна.\n"
      ],
      "metadata": {
        "id": "hDzUciCSCP1h"
      }
    },
    {
      "cell_type": "code",
      "source": [
        "function_called = 0\n",
        "\n",
        "def quad_inter(eps, delta, x_initial, h, f_x):\n",
        "    EPSILON = eps\n",
        "    DELTA_VALUE = delta\n",
        "    MAX_ITERATIONS = 3000\n",
        "    global function_called\n",
        "    exit_flag = -1\n",
        "    iterations = 0\n",
        "    x_1 = x_initial\n",
        "\n",
        "    x_val = 0\n",
        "    f_val = 0\n",
        "\n",
        "    for k in range(MAX_ITERATIONS):\n",
        "\n",
        "        if exit_flag == 1:\n",
        "            break\n",
        "        iterations += 1\n",
        "        if iterations > MAX_ITERATIONS:\n",
        "            exit_flag = -1\n",
        "            break\n",
        "\n",
        "        x_2 = x_1 + h\n",
        "        y_1 = target_func(x_1)\n",
        "        y_2 = target_func(x_2)\n",
        "\n",
        "        if y_1 > y_2:\n",
        "            x_3 = x_2 + h\n",
        "        else:\n",
        "            x_3 = x_1 - h\n",
        "        y_3 = target_func(x_3)\n",
        "\n",
        "        val_y = [y_1, y_2, y_3]\n",
        "        val_x = [x_1, x_2, x_3]\n",
        "        while True:\n",
        "            f_min = min(val_y)\n",
        "            x_min = val_x[val_y.index(f_min)]\n",
        "\n",
        "            alpha, beta = 0, 0\n",
        "            for j in range(3):\n",
        "                j_2 = j + 1\n",
        "                if j_2 >= 3:\n",
        "                    j_2 = 0\n",
        "                j_3 = j_2 + 1\n",
        "                if j_3 >= 3:\n",
        "                    j_3 = 0\n",
        "                alpha += val_y[j] * (val_x[j_2]**2 - val_x[j_3]**2)\n",
        "                beta += val_y[j] * (val_x[j_2] - val_x[j_3])\n",
        "\n",
        "            try:\n",
        "                x_prime = 0.5 * alpha / beta\n",
        "            except ZeroDivisionError:\n",
        "                x_1 = x_min\n",
        "                break\n",
        "\n",
        "            f_prime = target_func(x_prime)\n",
        "            condition_1 = (abs(f_min-f_prime) < EPSILON)\n",
        "            condition_2 = (abs(x_min-x_prime) < DELTA_VALUE)\n",
        "\n",
        "            if condition_1 and condition_2:\n",
        "                exit_flag = 1\n",
        "                x_val, f_val = x_prime, f_prime\n",
        "                break\n",
        "            else:\n",
        "                val_x = sorted(val_x)\n",
        "                if x_prime >= val_x[0] and x_prime <= val_x[-1]:\n",
        "                    val_x[1] = x_prime if f_prime < f_min else x_min\n",
        "                    val_y = [target_func(el) for el in val_x]\n",
        "                else:\n",
        "                    x_1 = x_prime\n",
        "                    break\n",
        "    return {\n",
        "            'min': x_val,\n",
        "            'iters': iterations,\n",
        "            'start': x_initial,\n",
        "            'step': h,\n",
        "            'count': function_called,\n",
        "            'accuracy': eps,\n",
        "            'func_accuracy': delta,\n",
        "            }\n",
        "\n",
        "\n",
        "def info_message(result, f):\n",
        "  print(f\"\"\"\n",
        "Решение {result['min']}; значение функции {f.subs(x, result['min'])}\n",
        "Точность аргумента {result['accuracy']}; точность функции {result.get('func_accuracy')}\n",
        "Количество итераций {result['iters']}\n",
        "Вызовы целевой функции {result['count']}\n",
        "Начальная точка: {result.get('start')}\n",
        "Шаг {result.get('step')}\n",
        "  \"\"\")\n",
        "\n",
        "\n",
        "res = quad_inter(0.1, 0.1, -4, 0.01, f)\n",
        "res1 = quad_inter(0.001, 0.001, -4, 0.00001, f)\n",
        "\n",
        "info_message(res, f)\n",
        "info_message(res1, f)\n"
      ],
      "metadata": {
        "colab": {
          "base_uri": "https://localhost:8080/"
        },
        "id": "UYjVckkab6aK",
        "outputId": "7a33bc74-f454-4a03-c813-d150ebd7b4d5"
      },
      "execution_count": 7,
      "outputs": [
        {
          "output_type": "stream",
          "name": "stdout",
          "text": [
            "\n",
            "Решение -4.754761422570853; значение функции -2.36260440524501\n",
            "Точность аргумента 0.1; точность функции 0.1\n",
            "Количество итераций 3\n",
            "Вызовы целевой функции 12\n",
            "Начальная точка: -4\n",
            "Шаг 0.01\n",
            "  \n",
            "\n",
            "Решение -4.754777123156585; значение функции -2.36260440510714\n",
            "Точность аргумента 0.001; точность функции 0.001\n",
            "Количество итераций 4\n",
            "Вызовы целевой функции 28\n",
            "Начальная точка: -4\n",
            "Шаг 1e-05\n",
            "  \n"
          ]
        }
      ]
    },
    {
      "cell_type": "markdown",
      "source": [
        "Алгоритм показал хорошие результаты. За несколько итераций и вызовов целевой функции была достигнута заданная точность как по аргументу, так и по значению функции.\n",
        "\n",
        "В первом эксперименте была достигнута точность 0.1 за 3 итерации и 12 вызовов целевой функции. Во втором эксперименте точность составила 0.001, количество итераций увеличилось до 4, а количество вызовов целевой функции - до 28.\n",
        "\n",
        "Таким образом, алгоритм может быть эффективным инструментом для минимизации функций на заданных отрезках с помощью квадратичных сплайнов. Однако стоит учитывать, что для более сложных функций может потребоваться больше итераций и вызовов целевой функции."
      ],
      "metadata": {
        "id": "TpyDI4nSCmry"
      }
    }
  ]
}